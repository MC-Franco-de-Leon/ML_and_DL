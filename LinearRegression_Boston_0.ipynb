{
 "cells": [
  {
   "cell_type": "code",
   "execution_count": null,
   "metadata": {},
   "outputs": [],
   "source": []
  },
  {
   "cell_type": "code",
   "execution_count": 1,
   "metadata": {},
   "outputs": [],
   "source": [
    "from sklearn.datasets import load_boston\n",
    "import seaborn as sns\n",
    "import matplotlib.pyplot as plt\n",
    "from sklearn.model_selection import train_test_split\n",
    "import pandas as pd\n"
   ]
  },
  {
   "cell_type": "code",
   "execution_count": null,
   "metadata": {},
   "outputs": [],
   "source": []
  },
  {
   "cell_type": "code",
   "execution_count": 11,
   "metadata": {},
   "outputs": [],
   "source": [
    "def Explore(DF):\n",
    "    print(DF.describe())\n",
    "    print(DF.shape)\n",
    "    plt.figure()\n",
    "    sns.heatmap(DF.corr() ,annot=True)\n",
    "\n",
    "    plt.show()\n",
    "def GenerateDataFrame():\n",
    "    data=load_boston()\n",
    "    print(data.data)\n",
    "    print(data.feature_names)\n",
    "    return train_test_split(pd.DataFrame(data=data.data,columns=data.feature_names),pd.DataFrame(data=data.target,columns=['Target']),test_size=.3)\n",
    "import numpy as np\n",
    "import copy\n",
    "def FindBetas(Xa,y):\n",
    "    #(X^TX)^{-1}X^Ty\n",
    "    #we have to add the intercept with ones in the first col\n",
    "    X=Xa.copy()\n",
    "    X['intercept']=1\n",
    "    \n",
    "    \n",
    "    XT=X.T\n",
    "    M=XT.dot(X)\n",
    "    #print(M)\n",
    "    A=pd.DataFrame(np.linalg.pinv(M.values),columns=M.columns)\n",
    "    print('A shaoe',A.shape)\n",
    "    print('XT  shape ',XT.shape)\n",
    "    print('y ',y.shape)\n",
    "    betas=A.dot(XT).dot(y)\n",
    "    print('betas shaoe ',betas.shape)\n",
    "    return betas\n",
    "    "
   ]
  },
  {
   "cell_type": "code",
   "execution_count": 12,
   "metadata": {},
   "outputs": [
    {
     "name": "stdout",
     "output_type": "stream",
     "text": [
      "[[6.3200e-03 1.8000e+01 2.3100e+00 ... 1.5300e+01 3.9690e+02 4.9800e+00]\n",
      " [2.7310e-02 0.0000e+00 7.0700e+00 ... 1.7800e+01 3.9690e+02 9.1400e+00]\n",
      " [2.7290e-02 0.0000e+00 7.0700e+00 ... 1.7800e+01 3.9283e+02 4.0300e+00]\n",
      " ...\n",
      " [6.0760e-02 0.0000e+00 1.1930e+01 ... 2.1000e+01 3.9690e+02 5.6400e+00]\n",
      " [1.0959e-01 0.0000e+00 1.1930e+01 ... 2.1000e+01 3.9345e+02 6.4800e+00]\n",
      " [4.7410e-02 0.0000e+00 1.1930e+01 ... 2.1000e+01 3.9690e+02 7.8800e+00]]\n",
      "['CRIM' 'ZN' 'INDUS' 'CHAS' 'NOX' 'RM' 'AGE' 'DIS' 'RAD' 'TAX' 'PTRATIO'\n",
      " 'B' 'LSTAT']\n"
     ]
    }
   ],
   "source": [
    "x_train,x_test,y_train,y_test=GenerateDataFrame()"
   ]
  },
  {
   "cell_type": "code",
   "execution_count": 13,
   "metadata": {},
   "outputs": [
    {
     "name": "stdout",
     "output_type": "stream",
     "text": [
      "A shaoe (2, 2)\n",
      "XT  shape  (2, 354)\n",
      "y  (354, 1)\n",
      "betas shaoe  (2, 1)\n"
     ]
    },
    {
     "data": {
      "text/html": [
       "<div>\n",
       "<style scoped>\n",
       "    .dataframe tbody tr th:only-of-type {\n",
       "        vertical-align: middle;\n",
       "    }\n",
       "\n",
       "    .dataframe tbody tr th {\n",
       "        vertical-align: top;\n",
       "    }\n",
       "\n",
       "    .dataframe thead th {\n",
       "        text-align: right;\n",
       "    }\n",
       "</style>\n",
       "<table border=\"1\" class=\"dataframe\">\n",
       "  <thead>\n",
       "    <tr style=\"text-align: right;\">\n",
       "      <th></th>\n",
       "      <th>Target</th>\n",
       "    </tr>\n",
       "  </thead>\n",
       "  <tbody>\n",
       "    <tr>\n",
       "      <th>0</th>\n",
       "      <td>-0.899365</td>\n",
       "    </tr>\n",
       "    <tr>\n",
       "      <th>1</th>\n",
       "      <td>33.846310</td>\n",
       "    </tr>\n",
       "  </tbody>\n",
       "</table>\n",
       "</div>"
      ],
      "text/plain": [
       "      Target\n",
       "0  -0.899365\n",
       "1  33.846310"
      ]
     },
     "execution_count": 13,
     "metadata": {},
     "output_type": "execute_result"
    }
   ],
   "source": [
    "\n",
    "Betas=FindBetas(x_train[['LSTAT']],y_train)\n",
    "Betas.head()\n"
   ]
  },
  {
   "cell_type": "code",
   "execution_count": 32,
   "metadata": {},
   "outputs": [],
   "source": [
    "def ploting(x,y,color):\n",
    "    plt.figure\n",
    "    plt.plot(x,y,color)\n",
    "    plt.show()"
   ]
  },
  {
   "cell_type": "code",
   "execution_count": 41,
   "metadata": {},
   "outputs": [],
   "source": [
    "def Predict(betas,xa,list_vars):\n",
    "    x=xa.copy()\n",
    "    x['intercept']=1\n",
    "    return x.dot(np.array(betas))\n",
    "\n"
   ]
  },
  {
   "cell_type": "code",
   "execution_count": 42,
   "metadata": {},
   "outputs": [],
   "source": [
    "y_train_pred=Predict(Betas,x_train[['LSTAT']],['LSTAT'])\n",
    "    "
   ]
  },
  {
   "cell_type": "code",
   "execution_count": 47,
   "metadata": {},
   "outputs": [],
   "source": [
    "y_val_pred=Predict(Betas,x_test[['LSTAT']],['LSTAT'])"
   ]
  },
  {
   "cell_type": "code",
   "execution_count": 48,
   "metadata": {},
   "outputs": [
    {
     "data": {
      "image/png": "[encoded data removed]",
      "text/plain": [
       "<Figure size 432x288 with 1 Axes>"
      ]
     },
     "metadata": {},
     "output_type": "display_data"
    }
   ],
   "source": [
    "    plt.figure\n",
    "    plt.plot(x_train[['LSTAT']],y_train,'ro')\n",
    "    plt.plot(x_train[['LSTAT']],y_train_pred,'bo')\n",
    "    plt.plot(x_test[['LSTAT']],y_test,'go')\n",
    "    plt.plot(x_test[['LSTAT']],y_val_pred,'yo')\n",
    "    plt.show()"
   ]
  },
  {
   "cell_type": "code",
   "execution_count": 50,
   "metadata": {},
   "outputs": [],
   "source": [
    "from sklearn.metrics import mean_squared_error,r2_score\n",
    "import math"
   ]
  },
  {
   "cell_type": "code",
   "execution_count": 53,
   "metadata": {},
   "outputs": [
    {
     "data": {
      "text/plain": [
       "6.151783815011356"
      ]
     },
     "execution_count": 53,
     "metadata": {},
     "output_type": "execute_result"
    }
   ],
   "source": [
    "rmse_train=math.sqrt(mean_squared_error(y_train,y_train_pred))\n",
    "rmse_train"
   ]
  },
  {
   "cell_type": "code",
   "execution_count": 54,
   "metadata": {},
   "outputs": [
    {
     "data": {
      "text/plain": [
       "6.357662916558489"
      ]
     },
     "execution_count": 54,
     "metadata": {},
     "output_type": "execute_result"
    }
   ],
   "source": [
    "rmse_val=math.sqrt(mean_squared_error(y_test,y_val_pred))\n",
    "rmse_val"
   ]
  },
  {
   "cell_type": "code",
   "execution_count": 55,
   "metadata": {},
   "outputs": [
    {
     "name": "stdout",
     "output_type": "stream",
     "text": [
      "r2 score train 0.5244082420291356\n",
      "r2 score test 0.5776620028386295\n"
     ]
    }
   ],
   "source": [
    "print('r2 score train',r2_score(y_train,y_train_pred))\n",
    "print('r2 score test',r2_score(y_test,y_val_pred))"
   ]
  },
  {
   "cell_type": "code",
   "execution_count": null,
   "metadata": {},
   "outputs": [],
   "source": []
  }
 ],
 "metadata": {
  "kernelspec": {
   "display_name": "Python 3",
   "language": "python",
   "name": "python3"
  },
  "language_info": {
   "codemirror_mode": {
    "name": "ipython",
    "version": 3
   },
   "file_extension": ".py",
   "mimetype": "text/x-python",
   "name": "python",
   "nbconvert_exporter": "python",
   "pygments_lexer": "ipython3",
   "version": "3.5.5"
  }
 },
 "nbformat": 4,
 "nbformat_minor": 2
}
