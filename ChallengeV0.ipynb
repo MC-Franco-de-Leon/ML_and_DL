{
 "cells": [
  {
   "cell_type": "code",
   "execution_count": 10,
   "metadata": {},
   "outputs": [
    {
     "data": {
      "text/plain": [
       "[]"
      ]
     },
     "execution_count": 10,
     "metadata": {},
     "output_type": "execute_result"
    }
   ],
   "source": [
    "from pathlib import Path,PurePath\n",
    "input_dir = PurePath(\"~/Documents/'more applications'/ElementsofProgrammingInterviews/ML/Covid\")\n",
    "\n",
    "list(Path(input_dir).glob('*'))"
   ]
  },
  {
   "cell_type": "code",
   "execution_count": 12,
   "metadata": {},
   "outputs": [
    {
     "ename": "FileNotFoundError",
     "evalue": "[Errno 2] No such file or directory: \"~/Documents/'more applications'/ElementsofProgrammingInterviews/ML/Covid/biorxiv_medrxiv/biorxiv_medrxiv/\"",
     "output_type": "error",
     "traceback": [
      "\u001b[0;31m---------------------------------------------------------------------------\u001b[0m",
      "\u001b[0;31mFileNotFoundError\u001b[0m                         Traceback (most recent call last)",
      "\u001b[0;32m<ipython-input-12-4bc21ad242a5>\u001b[0m in \u001b[0;36m<module>\u001b[0;34m()\u001b[0m\n\u001b[1;32m      1\u001b[0m \u001b[0;32mimport\u001b[0m \u001b[0mos\u001b[0m\u001b[0;34m\u001b[0m\u001b[0m\n\u001b[1;32m      2\u001b[0m \u001b[0mbiorxiv_dir\u001b[0m \u001b[0;34m=\u001b[0m \u001b[0;34m\"~/Documents/'more applications'/ElementsofProgrammingInterviews/ML/Covid/biorxiv_medrxiv/biorxiv_medrxiv/\"\u001b[0m\u001b[0;34m\u001b[0m\u001b[0m\n\u001b[0;32m----> 3\u001b[0;31m \u001b[0mfilenames\u001b[0m \u001b[0;34m=\u001b[0m \u001b[0mos\u001b[0m\u001b[0;34m.\u001b[0m\u001b[0mlistdir\u001b[0m\u001b[0;34m(\u001b[0m\u001b[0mbiorxiv_dir\u001b[0m\u001b[0;34m)\u001b[0m\u001b[0;34m\u001b[0m\u001b[0m\n\u001b[0m\u001b[1;32m      4\u001b[0m \u001b[0mprint\u001b[0m\u001b[0;34m(\u001b[0m\u001b[0;34m\"Number of articles retrieved from biorxiv:\"\u001b[0m\u001b[0;34m,\u001b[0m \u001b[0mlen\u001b[0m\u001b[0;34m(\u001b[0m\u001b[0mfilenames\u001b[0m\u001b[0;34m)\u001b[0m\u001b[0;34m)\u001b[0m\u001b[0;34m\u001b[0m\u001b[0m\n",
      "\u001b[0;31mFileNotFoundError\u001b[0m: [Errno 2] No such file or directory: \"~/Documents/'more applications'/ElementsofProgrammingInterviews/ML/Covid/biorxiv_medrxiv/biorxiv_medrxiv/\""
     ]
    }
   ],
   "source": [
    "import os\n",
    "biorxiv_dir = \"~/Documents/'more applications'/ElementsofProgrammingInterviews/ML/Covid/biorxiv_medrxiv/biorxiv_medrxiv/\"\n",
    "filenames = os.listdir(biorxiv_dir)\n",
    "print(\"Number of articles retrieved from biorxiv:\", len(filenames))\n"
   ]
  },
  {
   "cell_type": "code",
   "execution_count": 6,
   "metadata": {},
   "outputs": [
    {
     "ename": "FileNotFoundError",
     "evalue": "[Errno 2] No such file or directory: \"~/Documents/'more applications'/ElementsofProgrammingInterviews/ML/Covid/metadata.readme\"",
     "output_type": "error",
     "traceback": [
      "\u001b[0;31m---------------------------------------------------------------------------\u001b[0m",
      "\u001b[0;31mFileNotFoundError\u001b[0m                         Traceback (most recent call last)",
      "\u001b[0;32m<ipython-input-6-1fc071ae69d9>\u001b[0m in \u001b[0;36m<module>\u001b[0;34m()\u001b[0m\n\u001b[1;32m      2\u001b[0m \u001b[0;31m#)\u001b[0m\u001b[0;34m\u001b[0m\u001b[0;34m\u001b[0m\u001b[0m\n\u001b[1;32m      3\u001b[0m \u001b[0;34m\u001b[0m\u001b[0m\n\u001b[0;32m----> 4\u001b[0;31m \u001b[0;32mwith\u001b[0m \u001b[0mopen\u001b[0m\u001b[0;34m(\u001b[0m \u001b[0;34m\"~/Documents/'more applications'/ElementsofProgrammingInterviews/ML/Covid/metadata.readme\"\u001b[0m\u001b[0;34m,\u001b[0m \u001b[0;34m'r'\u001b[0m\u001b[0;34m)\u001b[0m \u001b[0;32mas\u001b[0m \u001b[0mf\u001b[0m\u001b[0;34m:\u001b[0m\u001b[0;34m\u001b[0m\u001b[0m\n\u001b[0m\u001b[1;32m      5\u001b[0m     \u001b[0mdata\u001b[0m \u001b[0;34m=\u001b[0m \u001b[0mf\u001b[0m\u001b[0;34m.\u001b[0m\u001b[0mread\u001b[0m\u001b[0;34m(\u001b[0m\u001b[0;34m)\u001b[0m\u001b[0;34m\u001b[0m\u001b[0m\n\u001b[1;32m      6\u001b[0m     \u001b[0mprint\u001b[0m\u001b[0;34m(\u001b[0m\u001b[0mdata\u001b[0m\u001b[0;34m)\u001b[0m\u001b[0;34m\u001b[0m\u001b[0m\n",
      "\u001b[0;31mFileNotFoundError\u001b[0m: [Errno 2] No such file or directory: \"~/Documents/'more applications'/ElementsofProgrammingInterviews/ML/Covid/metadata.readme\""
     ]
    }
   ],
   "source": [
    "#os.listdir( \"~/Documents/'more applications'/ElementsofProgrammingInterviews/ML/Covid/biorxiv_medrxiv/biorxiv_medrxiv/\"\n",
    "#)\n",
    "\n",
    "with open( \"~/Documents/'more applications'/ElementsofProgrammingInterviews/ML/Covid/metadata.readme\", 'r') as f:\n",
    "    data = f.read()\n",
    "    print(data)"
   ]
  },
  {
   "cell_type": "code",
   "execution_count": 13,
   "metadata": {},
   "outputs": [
    {
     "name": "stdout",
     "output_type": "stream",
     "text": [
      "(1) Metadata for papers from these sources are combined: CZI, PMC, BioRxiv/MedRxiv. (total records 29500)\n",
      "\t- CZI 1236 records\n",
      "\t- PMC 27337\n",
      "\t- bioRxiv 566\n",
      "\t- medRxiv 361\n",
      "(2) 17K of the paper records have PDFs and the hash of the PDFs are in 'sha'\n",
      "(3) For PMC sourced papers, one paper's metadata can be associated with one or more PDFs/shas under that paper - a PDF/sha correponding to the main article, and possibly additional PDF/shas corresponding to supporting materials for the article.\n",
      "(4)\t13K of the PDFs were processed with fulltext ('has_full_text'=True)\n",
      "(5) Various 'keys' are populated with the metadata:\n",
      "\t- 'pmcid': populated for all PMC paper records (27337 non null)\n",
      "\t- 'doi': populated for all BioRxiv/MedRxiv paper records and most of the other records (26357 non null)\n",
      "\t- 'WHO #Covidence': populated for all CZI records and none of the other records (1236 non null)\n",
      "\t- 'pubmed_id': populated for some of the records\n",
      "\t- 'Microsoft Academic Paper ID': populated for some of the records\n",
      "\n",
      "2020-03-20\n",
      "---CHANGES---\n",
      "* normalized doi, authors, title, abstract strings\n",
      "* merged redundant rows in metadata file on doi, pmcid, and pubmed_id\n",
      "* metadata sha column can now include multiple files (some PMC files have multiple associated PDFs)\n",
      "* added column in metadata file \"full_text_file\" to signal the tar.gz file in which the full text json resides\n",
      "---SUMMARY---\n",
      "total metadata rows: 44220\n",
      "custom_license: 16959 full text (new: 15533)\n",
      "noncomm_use_subset: 2353 full text (new: 385)\n",
      "comm_use_subset: 9118 full text (new: 128)\n",
      "biorxiv_medrxiv: 885 full text (new: 110)\n"
     ]
    }
   ],
   "source": [
    "import os\n",
    "path=\"/home/cristobal/Documents/more applications/ElementsofProgrammingInterviews/ML/Covid/\"\n",
    "train_csv = os.path.join(os.path.dirname(path), \"metadata.readme\")\n",
    "with open(train_csv) as f:\n",
    "    data=f.read()\n",
    "print(data)"
   ]
  },
  {
   "cell_type": "code",
   "execution_count": 35,
   "metadata": {},
   "outputs": [
    {
     "name": "stdout",
     "output_type": "stream",
     "text": [
      "Number of articles retrieved from biorxiv: 885\n"
     ]
    }
   ],
   "source": [
    "biorxiv_dir =os.path.join(os.path.dirname(path), \"biorxiv_medrxiv/biorxiv_medrxiv/\")\n",
    "filenames = os.listdir(biorxiv_dir)\n",
    "print(\"Number of articles retrieved from biorxiv:\", len(filenames))"
   ]
  },
  {
   "cell_type": "code",
   "execution_count": 39,
   "metadata": {},
   "outputs": [
    {
     "name": "stdout",
     "output_type": "stream",
     "text": [
      "9a3de625119a83aa1401eeb297937d9605f0d1f1.json\n"
     ]
    }
   ],
   "source": [
    "f=filenames[2]\n",
    "print(f)"
   ]
  },
  {
   "cell_type": "code",
   "execution_count": 23,
   "metadata": {},
   "outputs": [],
   "source": [
    "#import pandas as pd\n",
    "#df = pd.read_json (r'Path where the JSON file is saved\\File Name.json')\n",
    "#df.to_csv (r'Path where the new CSV file will be stored\\New File Name.csv', index = None)"
   ]
  },
  {
   "cell_type": "code",
   "execution_count": 71,
   "metadata": {},
   "outputs": [
    {
     "ename": "FileNotFoundError",
     "evalue": "[Errno 2] No such file or directory: \"/home/cristobal/Documents/'more applications'/ElementsofProgrammingInterviews/ML/Covid/biorxiv_medrxiv/biorxiv_medrxiv/06a1002f9fbea7179ac3572843f66b14568af6e4.json\"",
     "output_type": "error",
     "traceback": [
      "\u001b[0;31m---------------------------------------------------------------------------\u001b[0m",
      "\u001b[0;31mFileNotFoundError\u001b[0m                         Traceback (most recent call last)",
      "\u001b[0;32m<ipython-input-71-d8b1e163e57b>\u001b[0m in \u001b[0;36m<module>\u001b[0;34m()\u001b[0m\n\u001b[1;32m      9\u001b[0m \u001b[0;32mfor\u001b[0m \u001b[0mfilename\u001b[0m \u001b[0;32min\u001b[0m \u001b[0mfilenames\u001b[0m\u001b[0;34m:\u001b[0m\u001b[0;34m\u001b[0m\u001b[0m\n\u001b[1;32m     10\u001b[0m     \u001b[0mfilename\u001b[0m \u001b[0;34m=\u001b[0m \u001b[0mbiorxiv_dir2\u001b[0m \u001b[0;34m+\u001b[0m \u001b[0mfilename\u001b[0m\u001b[0;34m\u001b[0m\u001b[0m\n\u001b[0;32m---> 11\u001b[0;31m     \u001b[0mfile\u001b[0m \u001b[0;34m=\u001b[0m \u001b[0mjson\u001b[0m\u001b[0;34m.\u001b[0m\u001b[0mload\u001b[0m\u001b[0;34m(\u001b[0m\u001b[0mopen\u001b[0m\u001b[0;34m(\u001b[0m\u001b[0mfilename\u001b[0m\u001b[0;34m,\u001b[0m \u001b[0;34m'rb'\u001b[0m\u001b[0;34m)\u001b[0m\u001b[0;34m)\u001b[0m\u001b[0;34m\u001b[0m\u001b[0m\n\u001b[0m\u001b[1;32m     12\u001b[0m     \u001b[0mall_files\u001b[0m\u001b[0;34m.\u001b[0m\u001b[0mappend\u001b[0m\u001b[0;34m(\u001b[0m\u001b[0mfile\u001b[0m\u001b[0;34m)\u001b[0m\u001b[0;34m\u001b[0m\u001b[0m\n",
      "\u001b[0;31mFileNotFoundError\u001b[0m: [Errno 2] No such file or directory: \"/home/cristobal/Documents/'more applications'/ElementsofProgrammingInterviews/ML/Covid/biorxiv_medrxiv/biorxiv_medrxiv/06a1002f9fbea7179ac3572843f66b14568af6e4.json\""
     ]
    }
   ],
   "source": [
    "import json\n",
    "all_files = []\n",
    "\n",
    "biorxiv_dir2=\"/home/cristobal/Documents/'more applications'/ElementsofProgrammingInterviews/ML/Covid/biorxiv_medrxiv/biorxiv_medrxiv/\"\n",
    "biorxiv_dir3 =os.path.join(os.path.dirname(path), \"biorxiv_medrxiv/biorxiv_medrxiv/\")\n",
    "biorxiv_dir4=os.path.dirname(path)+\"/\"+\"biorxiv_medrxiv/biorxiv_medrxiv/\"\n",
    "biorxiv_dir5=\"/home/cristobal/Documents/more applications/ElementsofProgrammingInterviews/ML/Covid/biorxiv_medrxiv/biorxiv_medrxiv/\"\n",
    "\n",
    "for filename in filenames:\n",
    "    filename = biorxiv_dir2 + filename\n",
    "    file = json.load(open(filename, 'rb'))\n",
    "    all_files.append(file)"
   ]
  },
  {
   "cell_type": "code",
   "execution_count": 22,
   "metadata": {},
   "outputs": [
    {
     "ename": "FileNotFoundError",
     "evalue": "[Errno 2] No such file or directory: 'data.json'",
     "output_type": "error",
     "traceback": [
      "\u001b[0;31m---------------------------------------------------------------------------\u001b[0m",
      "\u001b[0;31mFileNotFoundError\u001b[0m                         Traceback (most recent call last)",
      "\u001b[0;32m<ipython-input-22-3536b61fd26b>\u001b[0m in \u001b[0;36m<module>\u001b[0;34m()\u001b[0m\n\u001b[1;32m      6\u001b[0m \u001b[0;31m# Opening JSON file and loading the data\u001b[0m\u001b[0;34m\u001b[0m\u001b[0;34m\u001b[0m\u001b[0m\n\u001b[1;32m      7\u001b[0m \u001b[0;31m# into the variable data\u001b[0m\u001b[0;34m\u001b[0m\u001b[0;34m\u001b[0m\u001b[0m\n\u001b[0;32m----> 8\u001b[0;31m \u001b[0;32mwith\u001b[0m \u001b[0mopen\u001b[0m\u001b[0;34m(\u001b[0m\u001b[0;34m'data.json'\u001b[0m\u001b[0;34m)\u001b[0m \u001b[0;32mas\u001b[0m \u001b[0mjson_file\u001b[0m\u001b[0;34m:\u001b[0m\u001b[0;34m\u001b[0m\u001b[0m\n\u001b[0m\u001b[1;32m      9\u001b[0m   \u001b[0mdata\u001b[0m \u001b[0;34m=\u001b[0m \u001b[0mjson\u001b[0m\u001b[0;34m.\u001b[0m\u001b[0mload\u001b[0m\u001b[0;34m(\u001b[0m\u001b[0mjson_file\u001b[0m\u001b[0;34m)\u001b[0m\u001b[0;34m\u001b[0m\u001b[0m\n\u001b[1;32m     10\u001b[0m \u001b[0;34m\u001b[0m\u001b[0m\n",
      "\u001b[0;31mFileNotFoundError\u001b[0m: [Errno 2] No such file or directory: 'data.json'"
     ]
    }
   ],
   "source": [
    "  \n",
    "import json \n",
    "import csv \n",
    "  \n",
    "  \n",
    "# Opening JSON file and loading the data \n",
    "# into the variable data \n",
    "with open('data.json') as json_file: \n",
    "    data = json.load(json_file) \n",
    "  \n",
    "employee_data = data['emp_details'] \n",
    "  \n",
    "# now we will open a file for writing \n",
    "data_file = open('data_file.csv', 'w') \n",
    "  \n",
    "# create the csv writer object \n",
    "csv_writer = csv.writer(data_file) \n",
    "  \n",
    "# Counter variable used for writing  \n",
    "# headers to the CSV file \n",
    "count = 0\n",
    "  \n",
    "for emp in employee_data: \n",
    "    if count == 0: \n",
    "  \n",
    "        # Writing headers of CSV file \n",
    "        header = emp.keys() \n",
    "        csv_writer.writerow(header) \n",
    "        count += 1\n",
    "  \n",
    "    # Writing data of CSV file \n",
    "    csv_writer.writerow(emp.values()) \n",
    "  \n",
    "data_file.close() \n",
    "    "
   ]
  },
  {
   "cell_type": "code",
   "execution_count": null,
   "metadata": {},
   "outputs": [],
   "source": [
    "import json\n",
    "import glob\n",
    "\n",
    "result = []\n",
    "for f in glob.glob(\"*.json\"):\n",
    "    with open(f, \"rb\") as infile:\n",
    "        result.append(json.load(infile))\n",
    "\n",
    "with open(\"merged_file.json\", \"wb\") as outfile:\n",
    "     json.dump(result, outfile)"
   ]
  }
 ],
 "metadata": {
  "kernelspec": {
   "display_name": "Python 3",
   "language": "python",
   "name": "python3"
  },
  "language_info": {
   "codemirror_mode": {
    "name": "ipython",
    "version": 3
   },
   "file_extension": ".py",
   "mimetype": "text/x-python",
   "name": "python",
   "nbconvert_exporter": "python",
   "pygments_lexer": "ipython3",
   "version": "3.5.5"
  }
 },
 "nbformat": 4,
 "nbformat_minor": 2
}
